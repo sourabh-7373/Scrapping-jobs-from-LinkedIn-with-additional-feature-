{
 "cells": [
  {
   "cell_type": "code",
   "execution_count": 2,
   "metadata": {},
   "outputs": [],
   "source": [
    "#Import Packages\n",
    "from selenium import webdriver\n",
    "import time\n",
    "import pandas as pd\n",
    "import os"
   ]
  },
  {
   "cell_type": "code",
   "execution_count": 3,
   "metadata": {},
   "outputs": [],
   "source": [
    "#Import Packages\n",
    "\n",
    "from selenium.webdriver.support.select import Select\n",
    "from selenium.webdriver.support.ui import WebDriverWait\n",
    "from selenium.webdriver.common.by import By\n",
    "from selenium.webdriver.support import expected_conditions as EC"
   ]
  },
  {
   "cell_type": "code",
   "execution_count": 4,
   "metadata": {},
   "outputs": [],
   "source": [
    "#Use this Url and change city or role accordingly\n",
    "\n",
    "url1='https://www.linkedin.com/jobs/search?keywords=Marketing%20Data%20Analyst&location=Berlin%2C%20Berlin%2C%20Germany&geoId=106967730&trk=public_jobs_jobs-search-bar_search-submit&position=1&pageNum=0'"
   ]
  },
  {
   "cell_type": "code",
   "execution_count": 5,
   "metadata": {},
   "outputs": [],
   "source": [
    "#Load the web driver and get the url\n",
    "\n",
    "driver = webdriver.Chrome(executable_path=r'C:\\\\Users\\\\Default\\\\Desktop\\\\chromedriver.exe')\n",
    "driver.implicitly_wait(10)\n",
    "driver.get(url1)"
   ]
  },
  {
   "cell_type": "code",
   "execution_count": 6,
   "metadata": {},
   "outputs": [],
   "source": [
    "#Find number of job listings\n",
    "\n",
    "y=driver.find_elements_by_class_name('results-context-header__job-count')[0].text"
   ]
  },
  {
   "cell_type": "code",
   "execution_count": 7,
   "metadata": {},
   "outputs": [
    {
     "data": {
      "text/plain": [
       "str"
      ]
     },
     "execution_count": 7,
     "metadata": {},
     "output_type": "execute_result"
    }
   ],
   "source": [
    "type(y)"
   ]
  },
  {
   "cell_type": "code",
   "execution_count": 8,
   "metadata": {},
   "outputs": [],
   "source": [
    "n=pd.to_numeric(y)"
   ]
  },
  {
   "cell_type": "code",
   "execution_count": 9,
   "metadata": {},
   "outputs": [
    {
     "data": {
      "text/plain": [
       "228"
      ]
     },
     "execution_count": 9,
     "metadata": {},
     "output_type": "execute_result"
    }
   ],
   "source": [
    "n"
   ]
  },
  {
   "cell_type": "code",
   "execution_count": 10,
   "metadata": {},
   "outputs": [],
   "source": [
    "#Loop to scroll through all jobs and click on see more jobs button for infinite scrolling\n",
    "\n",
    "i = 2\n",
    "while i <= int((n+200)/25)+1: \n",
    "    driver.execute_script(\"window.scrollTo(0, document.body.scrollHeight);\")\n",
    "    i = i + 1\n",
    "    \n",
    "    try:\n",
    "        send=driver.find_element_by_xpath(\"//button[@aria-label='Load more results']\")\n",
    "        driver.execute_script(\"arguments[0].click();\", send)   \n",
    "        time.sleep(3)\n",
    "    \n",
    "        \n",
    "         #buu=driver.find_elements_by_tag_name(\"button\")\n",
    "         #x=[btn for btn in buu if btn.text==\"See more jobs\"]\n",
    "         #for btn in x:\n",
    "                #driver.execute_script(\"arguments[0].click();\", btn)\n",
    "                #time.sleep(3)\n",
    "        \n",
    "                                                 \n",
    "\n",
    "\n",
    "            \n",
    "    except:\n",
    "        pass\n",
    "        time.sleep(5)\n",
    "         "
   ]
  },
  {
   "cell_type": "code",
   "execution_count": 11,
   "metadata": {},
   "outputs": [],
   "source": [
    "#Create empty lists for company name and job title\n",
    "\n",
    "companyname= []\n",
    "titlename= []\n"
   ]
  },
  {
   "cell_type": "code",
   "execution_count": 12,
   "metadata": {},
   "outputs": [],
   "source": [
    "#Find company name and append it to the blank list\n",
    "\n",
    "try:\n",
    "    for i in range(n):\n",
    "        company=driver.find_elements_by_class_name('base-search-card__subtitle')[i].text\n",
    "        companyname.append(company)\n",
    "        \n",
    "            \n",
    "    \n",
    "\n",
    "        \n",
    "    \n",
    "\n",
    "    \n",
    "    \n",
    "except IndexError:\n",
    "    print(\"no\")\n",
    "        \n",
    "    \n",
    "    "
   ]
  },
  {
   "cell_type": "code",
   "execution_count": 13,
   "metadata": {},
   "outputs": [
    {
     "data": {
      "text/plain": [
       "228"
      ]
     },
     "execution_count": 13,
     "metadata": {},
     "output_type": "execute_result"
    }
   ],
   "source": [
    "len(companyname)"
   ]
  },
  {
   "cell_type": "code",
   "execution_count": 14,
   "metadata": {},
   "outputs": [],
   "source": [
    "#Find title name and append it to the blank list\n",
    "\n",
    "try:\n",
    "    for i in range(n):\n",
    "        \n",
    "        \n",
    "        title=driver.find_elements_by_class_name('base-search-card__title')[i].text\n",
    "    \n",
    "\n",
    "        titlename.append(title)\n",
    "        \n",
    "            \n",
    "\n",
    "\n",
    "    \n",
    "    \n",
    "except IndexError:\n",
    "    print(\"no\")\n",
    "        \n",
    "    \n",
    "    "
   ]
  },
  {
   "cell_type": "code",
   "execution_count": 15,
   "metadata": {},
   "outputs": [
    {
     "data": {
      "text/plain": [
       "228"
      ]
     },
     "execution_count": 15,
     "metadata": {},
     "output_type": "execute_result"
    }
   ],
   "source": [
    "len(titlename)\n"
   ]
  },
  {
   "cell_type": "code",
   "execution_count": 16,
   "metadata": {},
   "outputs": [],
   "source": [
    "#Create dataframe for company name and title\n",
    "\n",
    "companyfinal=pd.DataFrame(companyname,columns=[\"company\"])\n",
    "titlefinal=pd.DataFrame(titlename,columns=[\"title\"])\n",
    "\n",
    "\n",
    "\n"
   ]
  },
  {
   "cell_type": "code",
   "execution_count": 17,
   "metadata": {},
   "outputs": [],
   "source": [
    "#Join the two lists\n",
    "\n",
    "x=companyfinal.join(titlefinal)\n"
   ]
  },
  {
   "cell_type": "code",
   "execution_count": 18,
   "metadata": {},
   "outputs": [
    {
     "data": {
      "text/html": [
       "<div>\n",
       "<style scoped>\n",
       "    .dataframe tbody tr th:only-of-type {\n",
       "        vertical-align: middle;\n",
       "    }\n",
       "\n",
       "    .dataframe tbody tr th {\n",
       "        vertical-align: top;\n",
       "    }\n",
       "\n",
       "    .dataframe thead th {\n",
       "        text-align: right;\n",
       "    }\n",
       "</style>\n",
       "<table border=\"1\" class=\"dataframe\">\n",
       "  <thead>\n",
       "    <tr style=\"text-align: right;\">\n",
       "      <th></th>\n",
       "      <th>company</th>\n",
       "      <th>title</th>\n",
       "    </tr>\n",
       "  </thead>\n",
       "  <tbody>\n",
       "    <tr>\n",
       "      <th>0</th>\n",
       "      <td>rebuy recommerce</td>\n",
       "      <td>Data Analyst - Marketing (m/f/x)</td>\n",
       "    </tr>\n",
       "    <tr>\n",
       "      <th>1</th>\n",
       "      <td>Vinted</td>\n",
       "      <td>Data Analyst / Decision Scientist, Digital Mar...</td>\n",
       "    </tr>\n",
       "    <tr>\n",
       "      <th>2</th>\n",
       "      <td>Taxfix</td>\n",
       "      <td>CRM Data Analyst</td>\n",
       "    </tr>\n",
       "    <tr>\n",
       "      <th>3</th>\n",
       "      <td>GetYourGuide</td>\n",
       "      <td>Senior Data Analyst, Marketing Analytics (Bran...</td>\n",
       "    </tr>\n",
       "    <tr>\n",
       "      <th>4</th>\n",
       "      <td>ONOMOTION (ONO)</td>\n",
       "      <td>Business Analyst Data Structure and Finance Sy...</td>\n",
       "    </tr>\n",
       "    <tr>\n",
       "      <th>...</th>\n",
       "      <td>...</td>\n",
       "      <td>...</td>\n",
       "    </tr>\n",
       "    <tr>\n",
       "      <th>223</th>\n",
       "      <td>Hypoport SE</td>\n",
       "      <td>Business Analyst - Software Development InsurT...</td>\n",
       "    </tr>\n",
       "    <tr>\n",
       "      <th>224</th>\n",
       "      <td>adesso insurance solutions GmbH</td>\n",
       "      <td>Business Analyst (all genders) Datenmigration ...</td>\n",
       "    </tr>\n",
       "    <tr>\n",
       "      <th>225</th>\n",
       "      <td>idealo internet GmbH</td>\n",
       "      <td>Senior Software Engineer (m|f|x) - Customer Ac...</td>\n",
       "    </tr>\n",
       "    <tr>\n",
       "      <th>226</th>\n",
       "      <td>Bausch + Lomb</td>\n",
       "      <td>Praktikant oder Werkstudent (m/w/d)- im Bereic...</td>\n",
       "    </tr>\n",
       "    <tr>\n",
       "      <th>227</th>\n",
       "      <td>Wayfair</td>\n",
       "      <td>Working Student / Intern EU Major Promotions</td>\n",
       "    </tr>\n",
       "  </tbody>\n",
       "</table>\n",
       "<p>228 rows × 2 columns</p>\n",
       "</div>"
      ],
      "text/plain": [
       "                             company  \\\n",
       "0                   rebuy recommerce   \n",
       "1                             Vinted   \n",
       "2                             Taxfix   \n",
       "3                       GetYourGuide   \n",
       "4                    ONOMOTION (ONO)   \n",
       "..                               ...   \n",
       "223                      Hypoport SE   \n",
       "224  adesso insurance solutions GmbH   \n",
       "225             idealo internet GmbH   \n",
       "226                    Bausch + Lomb   \n",
       "227                          Wayfair   \n",
       "\n",
       "                                                 title  \n",
       "0                     Data Analyst - Marketing (m/f/x)  \n",
       "1    Data Analyst / Decision Scientist, Digital Mar...  \n",
       "2                                     CRM Data Analyst  \n",
       "3    Senior Data Analyst, Marketing Analytics (Bran...  \n",
       "4    Business Analyst Data Structure and Finance Sy...  \n",
       "..                                                 ...  \n",
       "223  Business Analyst - Software Development InsurT...  \n",
       "224  Business Analyst (all genders) Datenmigration ...  \n",
       "225  Senior Software Engineer (m|f|x) - Customer Ac...  \n",
       "226  Praktikant oder Werkstudent (m/w/d)- im Bereic...  \n",
       "227       Working Student / Intern EU Major Promotions  \n",
       "\n",
       "[228 rows x 2 columns]"
      ]
     },
     "execution_count": 18,
     "metadata": {},
     "output_type": "execute_result"
    }
   ],
   "source": [
    "x"
   ]
  },
  {
   "cell_type": "code",
   "execution_count": 19,
   "metadata": {},
   "outputs": [],
   "source": [
    "#Save file in your directory\n",
    "\n",
    "x.to_csv('linkedin.csv')"
   ]
  },
  {
   "cell_type": "code",
   "execution_count": 20,
   "metadata": {},
   "outputs": [],
   "source": [
    "\n",
    "#Find job links and append it to a list\n",
    "\n",
    "jobList = driver.find_elements_by_class_name('base-card__full-link')\n",
    "hrefList = []\n",
    "for e in jobList:\n",
    "    hrefList.append(e.get_attribute('href'))\n",
    "\n",
    "#for href in hrefList:\n",
    "    #link.append(href)\n",
    "    "
   ]
  },
  {
   "cell_type": "code",
   "execution_count": 21,
   "metadata": {},
   "outputs": [
    {
     "data": {
      "text/plain": [
       "['https://de.linkedin.com/jobs/view/data-analyst-marketing-m-f-x-at-rebuy-recommerce-gmbh-3124767807?refId=6F8eoY8PIg7pHPpGcSSIgg%3D%3D&trackingId=L%2BK5XxvBEiKUuaWKbDrnUQ%3D%3D&position=1&pageNum=0&trk=public_jobs_jserp-result_search-card',\n",
       " 'https://de.linkedin.com/jobs/view/data-analyst-decision-scientist-digital-marketing-at-vinted-3072934467?refId=6F8eoY8PIg7pHPpGcSSIgg%3D%3D&trackingId=Nsc7bZuUr6Hv%2BMgeBktSTQ%3D%3D&position=2&pageNum=0&trk=public_jobs_jserp-result_search-card',\n",
       " 'https://de.linkedin.com/jobs/view/crm-data-analyst-at-taxfix-3062053914?refId=6F8eoY8PIg7pHPpGcSSIgg%3D%3D&trackingId=ngZwbi8NWbmgNPuRhIKidw%3D%3D&position=3&pageNum=0&trk=public_jobs_jserp-result_search-card',\n",
       " 'https://de.linkedin.com/jobs/view/senior-data-analyst-marketing-analytics-brand-analytics-at-getyourguide-2893020396?refId=6F8eoY8PIg7pHPpGcSSIgg%3D%3D&trackingId=rkDD7JgFmWCIQShsb7KlTw%3D%3D&position=4&pageNum=0&trk=public_jobs_jserp-result_search-card',\n",
       " 'https://de.linkedin.com/jobs/view/business-analyst-data-structure-and-finance-systems-w-m-d-at-onomotion-ono-3111640294?refId=6F8eoY8PIg7pHPpGcSSIgg%3D%3D&trackingId=QZ45jElR4oMDr2prD%2FPh0A%3D%3D&position=5&pageNum=0&trk=public_jobs_jserp-result_search-card',\n",
       " 'https://de.linkedin.com/jobs/view/teamlead-marketing-analytics-d-f-m-at-scout24-gruppe-3121816712?refId=6F8eoY8PIg7pHPpGcSSIgg%3D%3D&trackingId=1QgieRBQ872KpYMlRJXpfw%3D%3D&position=6&pageNum=0&trk=public_jobs_jserp-result_search-card',\n",
       " 'https://de.linkedin.com/jobs/view/seo-analyst-at-opentable-3059994117?refId=6F8eoY8PIg7pHPpGcSSIgg%3D%3D&trackingId=GIOifGrDNeSaJOKqlPHWsg%3D%3D&position=7&pageNum=0&trk=public_jobs_jserp-result_search-card',\n",
       " 'https://de.linkedin.com/jobs/view/senior-bi-data-analyst-analytics-enablement-m-f-d-at-free-now-3024071356?refId=6F8eoY8PIg7pHPpGcSSIgg%3D%3D&trackingId=j6yTEPd09UsTR8JsQcgYEA%3D%3D&position=8&pageNum=0&trk=public_jobs_jserp-result_search-card',\n",
       " 'https://de.linkedin.com/jobs/view/marketing-technology-analyst-m-f-d-at-internetstores-3142690939?refId=6F8eoY8PIg7pHPpGcSSIgg%3D%3D&trackingId=uflRorFnkWwb%2FKHv3OdcwQ%3D%3D&position=9&pageNum=0&trk=public_jobs_jserp-result_search-card',\n",
       " 'https://de.linkedin.com/jobs/view/social-media-content-analyst-m-w-d-at-grafton-recruitment-3133573261?refId=6F8eoY8PIg7pHPpGcSSIgg%3D%3D&trackingId=wIQLNm956kbWjXFYW%2BVb9g%3D%3D&position=10&pageNum=0&trk=public_jobs_jserp-result_search-card',\n",
       " 'https://de.linkedin.com/jobs/view/senior-crm-data-analyst-at-taxfix-3131543459?refId=6F8eoY8PIg7pHPpGcSSIgg%3D%3D&trackingId=t6CkVEmRNndADwHk2Svbhg%3D%3D&position=11&pageNum=0&trk=public_jobs_jserp-result_search-card',\n",
       " 'https://de.linkedin.com/jobs/view/online-marketing-analyst-d-f-m-at-scout24-gruppe-3122152240?refId=6F8eoY8PIg7pHPpGcSSIgg%3D%3D&trackingId=igVDflJNKnREqYp5JaTRZw%3D%3D&position=12&pageNum=0&trk=public_jobs_jserp-result_search-card',\n",
       " 'https://de.linkedin.com/jobs/view/team-lead-data-science-marketing-d-f-m-at-scout24-gruppe-3130577161?refId=6F8eoY8PIg7pHPpGcSSIgg%3D%3D&trackingId=ohspOimvyP%2BjDRjknPRpUA%3D%3D&position=13&pageNum=0&trk=public_jobs_jserp-result_search-card',\n",
       " 'https://de.linkedin.com/jobs/view/business-analysis-lead-marketing-at-vinted-3138071739?refId=6F8eoY8PIg7pHPpGcSSIgg%3D%3D&trackingId=vfyJMZimQgC4A6uSVIgbjQ%3D%3D&position=14&pageNum=0&trk=public_jobs_jserp-result_search-card',\n",
       " 'https://de.linkedin.com/jobs/view/business-analyst-data-science-financial-services-w-m-d-at-capgemini-3113116843?refId=6F8eoY8PIg7pHPpGcSSIgg%3D%3D&trackingId=ePVZYcWyOCpZCE2ioV7HaA%3D%3D&position=15&pageNum=0&trk=public_jobs_jserp-result_search-card',\n",
       " 'https://de.linkedin.com/jobs/view/analyst-social-media-und-marktforschung-w-m-d-at-deutsche-bahn-3085391912?refId=6F8eoY8PIg7pHPpGcSSIgg%3D%3D&trackingId=nOVpFLGKR0wuslXbVfLuPA%3D%3D&position=16&pageNum=0&trk=public_jobs_jserp-result_search-card',\n",
       " 'https://de.linkedin.com/jobs/view/digital-marketing-analyst-f-m-d-at-meininger-hotels-3129184483?refId=6F8eoY8PIg7pHPpGcSSIgg%3D%3D&trackingId=EmEnEt5r6BTC4aEcnPmqFw%3D%3D&position=17&pageNum=0&trk=public_jobs_jserp-result_search-card',\n",
       " 'https://de.linkedin.com/jobs/view/marketing-data-analyst-at-pandata-gmbh-3133931251?refId=6F8eoY8PIg7pHPpGcSSIgg%3D%3D&trackingId=PWNEzYV4ecM%2FxcwqCBWBcQ%3D%3D&position=18&pageNum=0&trk=public_jobs_jserp-result_search-card',\n",
       " 'https://de.linkedin.com/jobs/view/digital-marketing-data-analyst-at-sololearn-3071297165?refId=6F8eoY8PIg7pHPpGcSSIgg%3D%3D&trackingId=AumVupEgpS3o5i7Q6sMyfA%3D%3D&position=19&pageNum=0&trk=public_jobs_jserp-result_search-card',\n",
       " 'https://de.linkedin.com/jobs/view/marketing-data-analyst-m-f-d-at-parity-technologies-3101004380?refId=6F8eoY8PIg7pHPpGcSSIgg%3D%3D&trackingId=YN2oEIh2%2BslMH0DVTR9S6g%3D%3D&position=20&pageNum=0&trk=public_jobs_jserp-result_search-card',\n",
       " 'https://de.linkedin.com/jobs/view/business-analysis-lead-marketing-at-vinted-3066554399?refId=6F8eoY8PIg7pHPpGcSSIgg%3D%3D&trackingId=njwpAeGYAF57WJru0K5pbw%3D%3D&position=21&pageNum=0&trk=public_jobs_jserp-result_search-card',\n",
       " 'https://de.linkedin.com/jobs/view/marketing-web-data-analyst-all-genders-at-marco-sigismund-3130501968?refId=6F8eoY8PIg7pHPpGcSSIgg%3D%3D&trackingId=dq73A9nj65%2BM%2BqCuZD%2BBFQ%3D%3D&position=22&pageNum=0&trk=public_jobs_jserp-result_search-card',\n",
       " 'https://de.linkedin.com/jobs/view/senior-marketing-data-analyst-remote-at-phiture-3141706054?refId=6F8eoY8PIg7pHPpGcSSIgg%3D%3D&trackingId=7P%2FAL7Os%2FydpuWFzxqR4UA%3D%3D&position=23&pageNum=0&trk=public_jobs_jserp-result_search-card',\n",
       " 'https://de.linkedin.com/jobs/view/social-media-analyst-at-appen-3146611538?refId=6F8eoY8PIg7pHPpGcSSIgg%3D%3D&trackingId=gOpg7PwM00IwR3hvPvpa3Q%3D%3D&position=24&pageNum=0&trk=public_jobs_jserp-result_search-card',\n",
       " 'https://de.linkedin.com/jobs/view/data-analyst-m-f-d-at-springer-nature-group-3141722985?refId=6F8eoY8PIg7pHPpGcSSIgg%3D%3D&trackingId=K9jaFHfTh8YVue5xt3m8hQ%3D%3D&position=25&pageNum=0&trk=public_jobs_jserp-result_search-card',\n",
       " 'https://de.linkedin.com/jobs/view/sem-analyst-specialist-f-m-d-at-delivery-hero-se-3131371422?refId=JaZe9sZvaNACa5bAegACGw%3D%3D&trackingId=YeCS%2B1z9d9ZzefC%2FoXkMeQ%3D%3D&position=1&pageNum=1&trk=public_jobs_jserp-result_search-card',\n",
       " 'https://de.linkedin.com/jobs/view/marketing-data-analyst-at-pandata-gmbh-3133931251?refId=JaZe9sZvaNACa5bAegACGw%3D%3D&trackingId=pBpGwklKSsa73fyGCf%2Fhdw%3D%3D&position=2&pageNum=1&trk=public_jobs_jserp-result_search-card',\n",
       " 'https://de.linkedin.com/jobs/view/digital-marketing-data-analyst-at-sololearn-3071297165?refId=JaZe9sZvaNACa5bAegACGw%3D%3D&trackingId=EwdgWRelSffhU3BTs%2FgDwQ%3D%3D&position=3&pageNum=1&trk=public_jobs_jserp-result_search-card',\n",
       " 'https://de.linkedin.com/jobs/view/market-researcher-at-juni-3118757124?refId=JaZe9sZvaNACa5bAegACGw%3D%3D&trackingId=a%2Be10uCQkTOpSdx26eSIXw%3D%3D&position=4&pageNum=1&trk=public_jobs_jserp-result_search-card',\n",
       " 'https://de.linkedin.com/jobs/view/marketing-data-analyst-at-sennder-3032982846?refId=JaZe9sZvaNACa5bAegACGw%3D%3D&trackingId=kw0UuLMaleVCTgaaQeVuuA%3D%3D&position=5&pageNum=1&trk=public_jobs_jserp-result_search-card',\n",
       " 'https://de.linkedin.com/jobs/view/marketing-data-analyst-m-f-d-at-parity-technologies-3101004380?refId=JaZe9sZvaNACa5bAegACGw%3D%3D&trackingId=Ddm232XzmNPxNIiHlao0vg%3D%3D&position=6&pageNum=1&trk=public_jobs_jserp-result_search-card',\n",
       " 'https://de.linkedin.com/jobs/view/business-analysis-lead-marketing-at-vinted-3066554399?refId=JaZe9sZvaNACa5bAegACGw%3D%3D&trackingId=cyZE973J3IESexBOUWuEMA%3D%3D&position=7&pageNum=1&trk=public_jobs_jserp-result_search-card',\n",
       " 'https://de.linkedin.com/jobs/view/marketing-web-data-analyst-all-genders-at-marco-sigismund-3130501968?refId=JaZe9sZvaNACa5bAegACGw%3D%3D&trackingId=7D%2BL3bM%2BtbsZJkehMoDnog%3D%3D&position=8&pageNum=1&trk=public_jobs_jserp-result_search-card',\n",
       " 'https://de.linkedin.com/jobs/view/senior-marketing-data-analyst-remote-at-phiture-3141706054?refId=JaZe9sZvaNACa5bAegACGw%3D%3D&trackingId=V8%2FqrcY%2BEDN7bG2%2BXbBrLA%3D%3D&position=9&pageNum=1&trk=public_jobs_jserp-result_search-card',\n",
       " 'https://de.linkedin.com/jobs/view/data-analyst-m-f-d-at-springer-nature-group-3141722985?refId=JaZe9sZvaNACa5bAegACGw%3D%3D&trackingId=4yiu3%2BAVTHpcEo22vJiYnw%3D%3D&position=10&pageNum=1&trk=public_jobs_jserp-result_search-card',\n",
       " 'https://de.linkedin.com/jobs/view/data-analyst-at-springer-nature-group-3140864804?refId=JaZe9sZvaNACa5bAegACGw%3D%3D&trackingId=VuJfv0uieht%2BaXhnUmlcyw%3D%3D&position=11&pageNum=1&trk=public_jobs_jserp-result_search-card',\n",
       " 'https://de.linkedin.com/jobs/view/data-analyst-m-f-d-at-audible-3022894154?refId=JaZe9sZvaNACa5bAegACGw%3D%3D&trackingId=FkR4mLgNyGauTlagHMxSaA%3D%3D&position=12&pageNum=1&trk=public_jobs_jserp-result_search-card',\n",
       " 'https://de.linkedin.com/jobs/view/senior-data-analyst-m-w-d-at-michael-page-3119880139?refId=JaZe9sZvaNACa5bAegACGw%3D%3D&trackingId=SJveJ2V3%2F1JfqwCY4OMZZw%3D%3D&position=13&pageNum=1&trk=public_jobs_jserp-result_search-card',\n",
       " 'https://de.linkedin.com/jobs/view/senior-advertising-analyst-at-mobile-de-gmbh-3133140879?refId=JaZe9sZvaNACa5bAegACGw%3D%3D&trackingId=7GfFoE8MLD0AuCUeLYdeRw%3D%3D&position=14&pageNum=1&trk=public_jobs_jserp-result_search-card',\n",
       " 'https://de.linkedin.com/jobs/view/marketing-analyst-planning-m-f-d-at-flaconi-3109523344?refId=JaZe9sZvaNACa5bAegACGw%3D%3D&trackingId=axAVIQrAUkYZ071T%2FPF5iQ%3D%3D&position=15&pageNum=1&trk=public_jobs_jserp-result_search-card',\n",
       " 'https://de.linkedin.com/jobs/view/business-data-analyst-f-m-x-at-audibene-3121099478?refId=JaZe9sZvaNACa5bAegACGw%3D%3D&trackingId=lLSJxJCTCnfe6X6rdAjPog%3D%3D&position=16&pageNum=1&trk=public_jobs_jserp-result_search-card',\n",
       " 'https://de.linkedin.com/jobs/view/lead-analyst-supply-analytics-soap-bangkok-based-role-relocation-provided-at-agoda-3120745742?refId=JaZe9sZvaNACa5bAegACGw%3D%3D&trackingId=JR%2FTqdHgNkYFVvJ5Z6A1hw%3D%3D&position=17&pageNum=1&trk=public_jobs_jserp-result_search-card',\n",
       " 'https://de.linkedin.com/jobs/view/senior-data-analyst-f-m-d-at-yara-international-3102201346?refId=JaZe9sZvaNACa5bAegACGw%3D%3D&trackingId=qRxmWKhWIkmfHHwBtTjy5Q%3D%3D&position=18&pageNum=1&trk=public_jobs_jserp-result_search-card',\n",
       " 'https://de.linkedin.com/jobs/view/marketing-analyst-planning-all-genders-at-flaconi-3095007747?refId=JaZe9sZvaNACa5bAegACGw%3D%3D&trackingId=m6D9qR6f4jEYQh37%2BnaILw%3D%3D&position=19&pageNum=1&trk=public_jobs_jserp-result_search-card',\n",
       " 'https://de.linkedin.com/jobs/view/web-analyst-campaign-w-m-d-at-la-red-3117664436?refId=JaZe9sZvaNACa5bAegACGw%3D%3D&trackingId=wLHelB1PZ%2FzY%2BTGqZcco7Q%3D%3D&position=20&pageNum=1&trk=public_jobs_jserp-result_search-card',\n",
       " 'https://de.linkedin.com/jobs/view/senior-data-analyst-performance-marketing-at-cititec-3075804950?refId=JaZe9sZvaNACa5bAegACGw%3D%3D&trackingId=1K%2FNr0pew70AxQoQbxRheA%3D%3D&position=21&pageNum=1&trk=public_jobs_jserp-result_search-card',\n",
       " 'https://de.linkedin.com/jobs/view/business-data-analyst-m-w-d-bi-marketing-insights-at-wein-vinos-gmbh-3109064089?refId=JaZe9sZvaNACa5bAegACGw%3D%3D&trackingId=1P3j1hLGab9PxSFFtG4GEg%3D%3D&position=22&pageNum=1&trk=public_jobs_jserp-result_search-card',\n",
       " 'https://de.linkedin.com/jobs/view/marketing-analyst-f-m-d-at-wunderflats-3086787639?refId=JaZe9sZvaNACa5bAegACGw%3D%3D&trackingId=%2FyHF0Gh0uzV9Y9XllHzSUw%3D%3D&position=23&pageNum=1&trk=public_jobs_jserp-result_search-card',\n",
       " 'https://de.linkedin.com/jobs/view/visiting-analyst-%E2%80%93-market-research-and-development-m-w-d-at-bringoo-3136668987?refId=JaZe9sZvaNACa5bAegACGw%3D%3D&trackingId=qypG%2Fanr9o3xPnzLXm8hYQ%3D%3D&position=24&pageNum=1&trk=public_jobs_jserp-result_search-card',\n",
       " 'https://de.linkedin.com/jobs/view/senior-marketing-analyst-f-m-d-at-delivery-hero-se-3035909391?refId=JaZe9sZvaNACa5bAegACGw%3D%3D&trackingId=Moq0JnNLp9PkT3w4714e3Q%3D%3D&position=25&pageNum=1&trk=public_jobs_jserp-result_search-card',\n",
       " 'https://de.linkedin.com/jobs/view/business-analyst-beds-network-bangkok-based-relocation-provided-at-agoda-3142658545?refId=5xwcMYeFrjpvjOB0cdoVGg%3D%3D&trackingId=c22zJMYW%2B2dh2kU8XjwRCw%3D%3D&position=1&pageNum=2&trk=public_jobs_jserp-result_search-card',\n",
       " 'https://de.linkedin.com/jobs/view/senior-marketing-analyst-f-m-d-at-delivery-hero-se-3035909391?refId=5xwcMYeFrjpvjOB0cdoVGg%3D%3D&trackingId=7UVLRSSj8%2FKbUeAUw8%2B7%2BA%3D%3D&position=2&pageNum=2&trk=public_jobs_jserp-result_search-card',\n",
       " 'https://de.linkedin.com/jobs/view/business-data-analyst-m-w-d-at-dkb-deutsche-kreditbank-ag-3088725341?refId=5xwcMYeFrjpvjOB0cdoVGg%3D%3D&trackingId=JfmPOWekir8aYiP7D4MsVA%3D%3D&position=3&pageNum=2&trk=public_jobs_jserp-result_search-card',\n",
       " 'https://de.linkedin.com/jobs/view/duales-studium-b-a-bwl-mit-schwerpunkt-privatkundenvertrieb-filiale-in-berlin-2022-at-vodafone-3110026625?refId=5xwcMYeFrjpvjOB0cdoVGg%3D%3D&trackingId=w8YUJGnmO4jv%2BO%2F0iQn3eQ%3D%3D&position=4&pageNum=2&trk=public_jobs_jserp-result_search-card',\n",
       " 'https://de.linkedin.com/jobs/view/senior-marketing-analyst-europe-f-m-d-at-delivery-hero-se-3066138350?refId=5xwcMYeFrjpvjOB0cdoVGg%3D%3D&trackingId=VxhpcwpCteWJm33pSFZDvA%3D%3D&position=5&pageNum=2&trk=public_jobs_jserp-result_search-card',\n",
       " 'https://de.linkedin.com/jobs/view/business-data-analyst-m-w-d-bi-marketing-insights-at-wein-vinos-gmbh-3109074055?refId=5xwcMYeFrjpvjOB0cdoVGg%3D%3D&trackingId=mxuE2rszM%2FYAgY%2BIpMMaNQ%3D%3D&position=6&pageNum=2&trk=public_jobs_jserp-result_search-card',\n",
       " 'https://de.linkedin.com/jobs/view/data-analyst-bi-analyst-m-w-d-at-datapine-3123960538?refId=5xwcMYeFrjpvjOB0cdoVGg%3D%3D&trackingId=u%2BlauE1C4wS3E8Be4bPlFQ%3D%3D&position=7&pageNum=2&trk=public_jobs_jserp-result_search-card',\n",
       " 'https://de.linkedin.com/jobs/view/data-analyst-finance-and-bi-m-w-d-at-michael-page-3064368318?refId=5xwcMYeFrjpvjOB0cdoVGg%3D%3D&trackingId=mGInMZ6E2%2BPmvCuIkW%2BYtQ%3D%3D&position=8&pageNum=2&trk=public_jobs_jserp-result_search-card',\n",
       " 'https://de.linkedin.com/jobs/view/brand-researcher-f-m-d-at-delivery-hero-se-3047382293?refId=5xwcMYeFrjpvjOB0cdoVGg%3D%3D&trackingId=%2F3KaEDGS6LIfCdss4CYfFA%3D%3D&position=9&pageNum=2&trk=public_jobs_jserp-result_search-card',\n",
       " 'https://de.linkedin.com/jobs/view/lead-expert-marketing-analyst-m-f-d-at-flaconi-3103585210?refId=5xwcMYeFrjpvjOB0cdoVGg%3D%3D&trackingId=s66j6RgiH5P0lz%2ByYefDVA%3D%3D&position=10&pageNum=2&trk=public_jobs_jserp-result_search-card',\n",
       " 'https://de.linkedin.com/jobs/view/senior-data-analyst-m-w-d-crm-consulting-at-michael-page-3140850275?refId=5xwcMYeFrjpvjOB0cdoVGg%3D%3D&trackingId=4V9bpIafssY37hSLtt8J2A%3D%3D&position=11&pageNum=2&trk=public_jobs_jserp-result_search-card',\n",
       " 'https://de.linkedin.com/jobs/view/business-analyst-eu-analytics-at-wayfair-3064351169?refId=5xwcMYeFrjpvjOB0cdoVGg%3D%3D&trackingId=qa%2FLdpJueWM80TFru2R56A%3D%3D&position=12&pageNum=2&trk=public_jobs_jserp-result_search-card',\n",
       " 'https://de.linkedin.com/jobs/view/business-analyst-digital-product-owner-d-f-m-at-henkel-3089886081?refId=5xwcMYeFrjpvjOB0cdoVGg%3D%3D&trackingId=lfXC00%2FxmtDi1%2BgTS7P8ug%3D%3D&position=13&pageNum=2&trk=public_jobs_jserp-result_search-card',\n",
       " 'https://de.linkedin.com/jobs/view/lead-data-analyst-consultant-m-w-d-at-9-friendly-white-rabbits-3103722141?refId=5xwcMYeFrjpvjOB0cdoVGg%3D%3D&trackingId=9sxFAuV9Wcjltg9wXwmrSg%3D%3D&position=14&pageNum=2&trk=public_jobs_jserp-result_search-card',\n",
       " 'https://de.linkedin.com/jobs/view/business-analyst-client-infra-f-m-d-at-delivery-hero-se-2806186673?refId=5xwcMYeFrjpvjOB0cdoVGg%3D%3D&trackingId=6UD1RQNdbdb%2FD65LlOQVYw%3D%3D&position=15&pageNum=2&trk=public_jobs_jserp-result_search-card',\n",
       " 'https://de.linkedin.com/jobs/view/senior-marketing-analyst-at-ebay-kleinanzeigen-3135756504?refId=5xwcMYeFrjpvjOB0cdoVGg%3D%3D&trackingId=CtdufeG00AUMfUkkE7mQtA%3D%3D&position=16&pageNum=2&trk=public_jobs_jserp-result_search-card',\n",
       " 'https://de.linkedin.com/jobs/view/business-market-analyst-m-w-d-at-bundesdruckerei-gruppe-3090885185?refId=5xwcMYeFrjpvjOB0cdoVGg%3D%3D&trackingId=nCHHgwa4L1e2ZJpML3HxiQ%3D%3D&position=17&pageNum=2&trk=public_jobs_jserp-result_search-card',\n",
       " 'https://de.linkedin.com/jobs/view/business-analyst-fokus-conversion-rate-optimierung-m-w-d-at-tui-2904311537?refId=5xwcMYeFrjpvjOB0cdoVGg%3D%3D&trackingId=9thtelIqTrDPWMJJL5dG3Q%3D%3D&position=19&pageNum=2&trk=public_jobs_jserp-result_search-card',\n",
       " 'https://de.linkedin.com/jobs/view/senior-analyst-performance-marketing-f-m-d-at-wayfair-3135493980?refId=5xwcMYeFrjpvjOB0cdoVGg%3D%3D&trackingId=ZM7rsotjMXsrg3k88JnXPA%3D%3D&position=20&pageNum=2&trk=public_jobs_jserp-result_search-card',\n",
       " 'https://de.linkedin.com/jobs/view/data-analyst-partner-development-%E2%80%93-statistics-ml-bi-bangkok-based-relocation-provided-at-agoda-3109646777?refId=5xwcMYeFrjpvjOB0cdoVGg%3D%3D&trackingId=2u0v5n7LnNwk427bAWcITw%3D%3D&position=21&pageNum=2&trk=public_jobs_jserp-result_search-card',\n",
       " 'https://de.linkedin.com/jobs/view/growth-analyst-m-f-d-at-re-cap-3075985160?refId=5xwcMYeFrjpvjOB0cdoVGg%3D%3D&trackingId=XQb5EnVfuZchTofZU0iFXw%3D%3D&position=22&pageNum=2&trk=public_jobs_jserp-result_search-card',\n",
       " 'https://de.linkedin.com/jobs/view/senior-marketing-analyst-d-f-m-at-adevinta-3139395402?refId=5xwcMYeFrjpvjOB0cdoVGg%3D%3D&trackingId=woIl7TZwRfJGHXV3rWlkKA%3D%3D&position=23&pageNum=2&trk=public_jobs_jserp-result_search-card',\n",
       " 'https://de.linkedin.com/jobs/view/business-analyst-in-at-investitionsbank-des-landes-brandenburg-ilb-3121457921?refId=5xwcMYeFrjpvjOB0cdoVGg%3D%3D&trackingId=i9l7T5EHMDQ4mJ8fc4xuWw%3D%3D&position=24&pageNum=2&trk=public_jobs_jserp-result_search-card',\n",
       " 'https://de.linkedin.com/jobs/view/growth-analyst-m-w-d-at-worldline-3111939740?refId=5xwcMYeFrjpvjOB0cdoVGg%3D%3D&trackingId=L%2FyrHWrv0%2BZqQ%2FuDuGdt3w%3D%3D&position=25&pageNum=2&trk=public_jobs_jserp-result_search-card',\n",
       " 'https://de.linkedin.com/jobs/view/junior-sales-marketing-analyst-m-w-d-100%25-home-office-at-michael-page-2975642314?refId=jVIlmskZiGqaCHbowWwZPw%3D%3D&trackingId=WhSzR5puwI0UF4qwJ8MLWA%3D%3D&position=1&pageNum=3&trk=public_jobs_jserp-result_search-card',\n",
       " 'https://de.linkedin.com/jobs/view/growth-analyst-w-m-d-at-forto-3116642154?refId=jVIlmskZiGqaCHbowWwZPw%3D%3D&trackingId=6HzrFd1REN4PWG%2F%2BDjHViA%3D%3D&position=2&pageNum=3&trk=public_jobs_jserp-result_search-card',\n",
       " 'https://de.linkedin.com/jobs/view/analyst-consultant-thought-leadership-and-digital-marketing-analytics-m-w-d-in-berlin-at-bearingpoint-2963467934?refId=jVIlmskZiGqaCHbowWwZPw%3D%3D&trackingId=BHS8O%2F3a5Wc%2FUWzUWtM8vQ%3D%3D&position=3&pageNum=3&trk=public_jobs_jserp-result_search-card',\n",
       " 'https://de.linkedin.com/jobs/view/senior-bi-analyst-f-m-d-at-zenloop-3126192044?refId=jVIlmskZiGqaCHbowWwZPw%3D%3D&trackingId=BUnHBMpHZGV%2BUUGvR3b8EA%3D%3D&position=4&pageNum=3&trk=public_jobs_jserp-result_search-card',\n",
       " 'https://de.linkedin.com/jobs/view/controller-in-business-analyst-in-at-imap-gmbh-3139443906?refId=jVIlmskZiGqaCHbowWwZPw%3D%3D&trackingId=bpHZ4UfT6q0yuZSm1IrF3g%3D%3D&position=5&pageNum=3&trk=public_jobs_jserp-result_search-card',\n",
       " 'https://de.linkedin.com/jobs/view/hungarian-speaking-social-media-analyst-m-f-x-at-grafton-recruitment-3086263534?refId=jVIlmskZiGqaCHbowWwZPw%3D%3D&trackingId=a3K6bZLtvCUbQcOi3Jj%2Bog%3D%3D&position=6&pageNum=3&trk=public_jobs_jserp-result_search-card',\n",
       " 'https://de.linkedin.com/jobs/view/senior-bi-analyst-f-m-d-at-zenloop-3127403104?refId=jVIlmskZiGqaCHbowWwZPw%3D%3D&trackingId=VM5vwBVOPe9IYXPGxtrYzw%3D%3D&position=7&pageNum=3&trk=public_jobs_jserp-result_search-card',\n",
       " 'https://de.linkedin.com/jobs/view/market-research-manager-at-toptal-3117487380?refId=jVIlmskZiGqaCHbowWwZPw%3D%3D&trackingId=iRhjasvF2C4LXA3s3LfPkw%3D%3D&position=8&pageNum=3&trk=public_jobs_jserp-result_search-card',\n",
       " 'https://de.linkedin.com/jobs/view/business-analyst-at-allego-3095766062?refId=jVIlmskZiGqaCHbowWwZPw%3D%3D&trackingId=fQzPscG7VBReuMLJKQl5zA%3D%3D&position=9&pageNum=3&trk=public_jobs_jserp-result_search-card',\n",
       " 'https://de.linkedin.com/jobs/view/business-analyst-eu-analytics-at-wayfair-3064351169?refId=jVIlmskZiGqaCHbowWwZPw%3D%3D&trackingId=C%2BGHJN8M0QlI78GD8Jro7g%3D%3D&position=10&pageNum=3&trk=public_jobs_jserp-result_search-card',\n",
       " 'https://de.linkedin.com/jobs/view/data-analytics-manager-%E2%80%93-customer-experience-group-based-in-bangkok-at-agoda-3095543249?refId=jVIlmskZiGqaCHbowWwZPw%3D%3D&trackingId=GuRSNvgVOnLcmxZASkGOMw%3D%3D&position=11&pageNum=3&trk=public_jobs_jserp-result_search-card',\n",
       " 'https://de.linkedin.com/jobs/view/consultant-ki-und-digitalisierung-m-w-d-at-t-systems-mms-3147551916?refId=jVIlmskZiGqaCHbowWwZPw%3D%3D&trackingId=zvcOvGj%2Fxlmdc%2BTZJIawGg%3D%3D&position=12&pageNum=3&trk=public_jobs_jserp-result_search-card',\n",
       " 'https://de.linkedin.com/jobs/view/bi-developer-at-justwatch-3133592165?refId=jVIlmskZiGqaCHbowWwZPw%3D%3D&trackingId=pUQ10Z6kntQAfyHfPda6Vw%3D%3D&position=13&pageNum=3&trk=public_jobs_jserp-result_search-card',\n",
       " 'https://de.linkedin.com/jobs/view/technical-web-analyst-m-f-d-at-hrs-group-3111872233?refId=jVIlmskZiGqaCHbowWwZPw%3D%3D&trackingId=VjSS5JbqKmn6%2FcOYM60pwQ%3D%3D&position=14&pageNum=3&trk=public_jobs_jserp-result_search-card',\n",
       " 'https://de.linkedin.com/jobs/view/bi-developer-at-justwatch-3141568383?refId=jVIlmskZiGqaCHbowWwZPw%3D%3D&trackingId=r2XyMmLgg9Hx5kLBlFyDDA%3D%3D&position=15&pageNum=3&trk=public_jobs_jserp-result_search-card',\n",
       " 'https://de.linkedin.com/jobs/view/consultant-%E2%80%93-data-analytics-all-genders-business-analysis-consulting-datenbankentwicklung-bi-it-at-verovis-3117670432?refId=jVIlmskZiGqaCHbowWwZPw%3D%3D&trackingId=qk92BnQ3UjwtK1dqNbZqAg%3D%3D&position=16&pageNum=3&trk=public_jobs_jserp-result_search-card',\n",
       " 'https://de.linkedin.com/jobs/view/werkstudent-bi-data-scientist-analyst-m-w-d-at-wisag-facility-management-hessen-gmbh-co-kg-3132580457?refId=jVIlmskZiGqaCHbowWwZPw%3D%3D&trackingId=%2BRsH7y7sv0QkIaLXWIJaVg%3D%3D&position=17&pageNum=3&trk=public_jobs_jserp-result_search-card',\n",
       " 'https://de.linkedin.com/jobs/view/business-analyst-operational-controller-m-w-d-%E2%80%93-standort-frankfurt-ratingen-oder-kiel-at-worldline-3106553501?refId=jVIlmskZiGqaCHbowWwZPw%3D%3D&trackingId=gAoRkHXH0HbscpeAhc4J7A%3D%3D&position=18&pageNum=3&trk=public_jobs_jserp-result_search-card',\n",
       " 'https://de.linkedin.com/jobs/view/business-analyst-fokus-conversion-rate-optimierung-m-w-d-at-tui-2904311537?refId=jVIlmskZiGqaCHbowWwZPw%3D%3D&trackingId=gjy7yCYNVV5V7AOr1rVKuA%3D%3D&position=19&pageNum=3&trk=public_jobs_jserp-result_search-card',\n",
       " 'https://de.linkedin.com/jobs/view/business-analyst-master-data-m-w-d-at-thalia-b%C3%BCcher-gmbh-3112914216?refId=jVIlmskZiGqaCHbowWwZPw%3D%3D&trackingId=SL3WOPP%2FVPFeRtF1UFh%2F6g%3D%3D&position=20&pageNum=3&trk=public_jobs_jserp-result_search-card',\n",
       " 'https://de.linkedin.com/jobs/view/business-analyst-master-data-m-w-d-at-thalia-b%C3%BCcher-gmbh-3112913442?refId=jVIlmskZiGqaCHbowWwZPw%3D%3D&trackingId=Ecwk0eEmcC7wLOdnOKfEGw%3D%3D&position=21&pageNum=3&trk=public_jobs_jserp-result_search-card',\n",
       " 'https://de.linkedin.com/jobs/view/business-market-analyst-m-w-d-at-bundesdruckerei-gruppe-3090885185?refId=jVIlmskZiGqaCHbowWwZPw%3D%3D&trackingId=ORtd1JAzr%2FDWpmNsYiyi5w%3D%3D&position=22&pageNum=3&trk=public_jobs_jserp-result_search-card',\n",
       " 'https://de.linkedin.com/jobs/view/senior-seo-analyst-%E2%80%93-technisches-seo-m-w-d-at-claneo-internationales-search-content-marketing-2874577745?refId=jVIlmskZiGqaCHbowWwZPw%3D%3D&trackingId=U4XpEi0lXYrCoSX1tq0IUg%3D%3D&position=23&pageNum=3&trk=public_jobs_jserp-result_search-card',\n",
       " 'https://de.linkedin.com/jobs/view/praktikum-werkstudent-w-m-d-business-research-analysis-at-kpmg-deutschland-3140347738?refId=jVIlmskZiGqaCHbowWwZPw%3D%3D&trackingId=fNDrZlACQxAMmdJZ%2FETXLQ%3D%3D&position=24&pageNum=3&trk=public_jobs_jserp-result_search-card',\n",
       " 'https://de.linkedin.com/jobs/view/business-analyst-digital-at-yara-international-3037602080?refId=jVIlmskZiGqaCHbowWwZPw%3D%3D&trackingId=XkD%2FuLmH1rZF%2FGPvXlJpPQ%3D%3D&position=25&pageNum=3&trk=public_jobs_jserp-result_search-card',\n",
       " 'https://de.linkedin.com/jobs/view/bi-developer-at-justwatch-3133592165?refId=%2BjUQI7ZPxbiGB3G8u4saFw%3D%3D&trackingId=64nHujN19fRgyo5Ks%2FQWpg%3D%3D&position=1&pageNum=4&trk=public_jobs_jserp-result_search-card',\n",
       " 'https://de.linkedin.com/jobs/view/business-analyst-master-data-m-w-d-at-thalia-b%C3%BCcher-gmbh-3112914216?refId=%2BjUQI7ZPxbiGB3G8u4saFw%3D%3D&trackingId=mYABtveSubbNyIcoC3cEAA%3D%3D&position=2&pageNum=4&trk=public_jobs_jserp-result_search-card',\n",
       " 'https://de.linkedin.com/jobs/view/business-analyst-master-data-m-w-d-at-thalia-b%C3%BCcher-gmbh-3112913442?refId=%2BjUQI7ZPxbiGB3G8u4saFw%3D%3D&trackingId=SvmS%2Bg61elAoh%2ByjL7OO7g%3D%3D&position=3&pageNum=4&trk=public_jobs_jserp-result_search-card',\n",
       " 'https://de.linkedin.com/jobs/view/business-market-analyst-m-w-d-at-bundesdruckerei-gruppe-3090885185?refId=%2BjUQI7ZPxbiGB3G8u4saFw%3D%3D&trackingId=mgFcWs47VszUcdvtmAjOGA%3D%3D&position=4&pageNum=4&trk=public_jobs_jserp-result_search-card',\n",
       " 'https://de.linkedin.com/jobs/view/senior-seo-analyst-%E2%80%93-technisches-seo-m-w-d-at-claneo-internationales-search-content-marketing-2874577745?refId=%2BjUQI7ZPxbiGB3G8u4saFw%3D%3D&trackingId=e5eMmBO2slNqojDP56mOxg%3D%3D&position=5&pageNum=4&trk=public_jobs_jserp-result_search-card',\n",
       " 'https://de.linkedin.com/jobs/view/praktikum-werkstudent-w-m-d-business-research-analysis-at-kpmg-deutschland-3140347738?refId=%2BjUQI7ZPxbiGB3G8u4saFw%3D%3D&trackingId=ybHDo1zTIFN0gihQmxXrfA%3D%3D&position=6&pageNum=4&trk=public_jobs_jserp-result_search-card',\n",
       " 'https://de.linkedin.com/jobs/view/business-analyst-digital-at-yara-international-3037602080?refId=%2BjUQI7ZPxbiGB3G8u4saFw%3D%3D&trackingId=pI%2FPmR9j2bJ%2FPg2GliqyQw%3D%3D&position=7&pageNum=4&trk=public_jobs_jserp-result_search-card',\n",
       " 'https://de.linkedin.com/jobs/view/consultant-business-analyst-projektmanager-life-sciences-chemicals-w-m-d-at-capgemini-3104176585?refId=%2BjUQI7ZPxbiGB3G8u4saFw%3D%3D&trackingId=O9FO7a9QQzaqfEak7dwkZA%3D%3D&position=8&pageNum=4&trk=public_jobs_jserp-result_search-card',\n",
       " 'https://de.linkedin.com/jobs/view/business-analyst-alexa-ai-natural-understanding-at-amazon-3075750566?refId=%2BjUQI7ZPxbiGB3G8u4saFw%3D%3D&trackingId=MMhdgzn8WtSl2eFNBfQ3rw%3D%3D&position=9&pageNum=4&trk=public_jobs_jserp-result_search-card',\n",
       " 'https://de.linkedin.com/jobs/view/lead-expert-marketing-analyst-all-genders-at-flaconi-3083053290?refId=%2BjUQI7ZPxbiGB3G8u4saFw%3D%3D&trackingId=gBxVQ7N2SpBxtAK%2BE9jGbQ%3D%3D&position=10&pageNum=4&trk=public_jobs_jserp-result_search-card',\n",
       " 'https://de.linkedin.com/jobs/view/werkstudent-business-analyst-sanierung-firmenkunden-m-w-d-at-dkb-deutsche-kreditbank-ag-3131647615?refId=%2BjUQI7ZPxbiGB3G8u4saFw%3D%3D&trackingId=fpbg7bHM5t0ZDj5j1PUTzw%3D%3D&position=12&pageNum=4&trk=public_jobs_jserp-result_search-card',\n",
       " 'https://de.linkedin.com/jobs/view/slovenian-speaking-social-media-analyst-m-f-x-at-grafton-recruitment-3133567801?refId=%2BjUQI7ZPxbiGB3G8u4saFw%3D%3D&trackingId=FbW7x%2FH0iEyW4To0fNpiGA%3D%3D&position=13&pageNum=4&trk=public_jobs_jserp-result_search-card',\n",
       " 'https://de.linkedin.com/jobs/view/industry-insurance-consultant-business-analyst-m-f-x-at-ibm-3104019582?refId=%2BjUQI7ZPxbiGB3G8u4saFw%3D%3D&trackingId=3MAaAcGeKmiFcGC%2BfVtp7A%3D%3D&position=14&pageNum=4&trk=public_jobs_jserp-result_search-card',\n",
       " 'https://de.linkedin.com/jobs/view/junior-soc-analyst-m-w-d-business-analysis-it-security-it-at-abtis-gmbh-3079941825?refId=%2BjUQI7ZPxbiGB3G8u4saFw%3D%3D&trackingId=dcENlaTsyGCcAFvFLvfoGQ%3D%3D&position=15&pageNum=4&trk=public_jobs_jserp-result_search-card',\n",
       " 'https://de.linkedin.com/jobs/view/business-analyst-m-f-d-at-bayer-3133982790?refId=%2BjUQI7ZPxbiGB3G8u4saFw%3D%3D&trackingId=JgduHRcjVv7N70fChLU8JA%3D%3D&position=16&pageNum=4&trk=public_jobs_jserp-result_search-card',\n",
       " 'https://de.linkedin.com/jobs/view/business-analyst-key-account-manager-m-w-d-bereich-shopping-at-check24-vergleichsportal-3122890669?refId=%2BjUQI7ZPxbiGB3G8u4saFw%3D%3D&trackingId=2%2BuxHegdzFbYXGBjBa%2F7LA%3D%3D&position=17&pageNum=4&trk=public_jobs_jserp-result_search-card',\n",
       " 'https://de.linkedin.com/jobs/view/business-analyst-mena-trustworthy-shopping-experience-at-amazon-3138198802?refId=%2BjUQI7ZPxbiGB3G8u4saFw%3D%3D&trackingId=CI4yQRXCfPa3nTUasjrqmg%3D%3D&position=18&pageNum=4&trk=public_jobs_jserp-result_search-card',\n",
       " 'https://de.linkedin.com/jobs/view/business-analyst-it-f-m-d-at-digital-charging-solutions-gmbh-3144337047?refId=%2BjUQI7ZPxbiGB3G8u4saFw%3D%3D&trackingId=sRGxNzsNTMdbyG92jxN5Nw%3D%3D&position=19&pageNum=4&trk=public_jobs_jserp-result_search-card',\n",
       " 'https://de.linkedin.com/jobs/view/duales-studium-b-a-bwl-mit-schwerpunkt-privatkundenvertrieb-filiale-in-berlin-2022-at-vodafone-3110026625?refId=%2BjUQI7ZPxbiGB3G8u4saFw%3D%3D&trackingId=9SGu9oSqdTaXklwfxtYLUg%3D%3D&position=20&pageNum=4&trk=public_jobs_jserp-result_search-card',\n",
       " 'https://de.linkedin.com/jobs/view/business-analyst-at-utopia-music-3140340906?refId=%2BjUQI7ZPxbiGB3G8u4saFw%3D%3D&trackingId=sbgl%2B7mMkU0gqF%2BdeDmclg%3D%3D&position=21&pageNum=4&trk=public_jobs_jserp-result_search-card',\n",
       " 'https://de.linkedin.com/jobs/view/business-analyst-at-vinted-3021241986?refId=%2BjUQI7ZPxbiGB3G8u4saFw%3D%3D&trackingId=1MK0OWxqBC2mKSQd2X%2FsLg%3D%3D&position=22&pageNum=4&trk=public_jobs_jserp-result_search-card',\n",
       " 'https://de.linkedin.com/jobs/view/testdesigner-als-business-analyst-w-m-d-at-deutsche-bahn-international-3086881995?refId=%2BjUQI7ZPxbiGB3G8u4saFw%3D%3D&trackingId=AwhOgv1yP62TF5znqypyoA%3D%3D&position=23&pageNum=4&trk=public_jobs_jserp-result_search-card',\n",
       " 'https://de.linkedin.com/jobs/view/business-analyst-operations-at-sumup-3141669667?refId=%2BjUQI7ZPxbiGB3G8u4saFw%3D%3D&trackingId=F65imDcBtUBo%2Bwzht3IFWQ%3D%3D&position=24&pageNum=4&trk=public_jobs_jserp-result_search-card',\n",
       " 'https://de.linkedin.com/jobs/view/business-analyst-berlin-konstanz-at-knime-3092723334?refId=%2BjUQI7ZPxbiGB3G8u4saFw%3D%3D&trackingId=YJbj4xw%2F3F%2B7YmvFv6q%2BFQ%3D%3D&position=25&pageNum=4&trk=public_jobs_jserp-result_search-card',\n",
       " 'https://de.linkedin.com/jobs/view/business-analyst-customer-experience-w-m-d-at-capgemini-3113116880?refId=HxkijepwE0PVOlf9g5JdEg%3D%3D&trackingId=DadSoo%2FinTreor2JAFK9Gg%3D%3D&position=1&pageNum=5&trk=public_jobs_jserp-result_search-card',\n",
       " 'https://de.linkedin.com/jobs/view/data-scientist-business-intelligence-analyst-m-w-d-at-takeda-3035953741?refId=HxkijepwE0PVOlf9g5JdEg%3D%3D&trackingId=KaDwHvhARZWHKiuHrZEW0A%3D%3D&position=2&pageNum=5&trk=public_jobs_jserp-result_search-card',\n",
       " 'https://de.linkedin.com/jobs/view/testdesigner-als-business-analyst-w-m-d-at-deutsche-bahn-3078793312?refId=HxkijepwE0PVOlf9g5JdEg%3D%3D&trackingId=XBz7Pj2BMebVUFcBVm%2FVdQ%3D%3D&position=3&pageNum=5&trk=public_jobs_jserp-result_search-card',\n",
       " 'https://de.linkedin.com/jobs/view/business-analyst-at-jobs-via-efinancialcareers-3137570319?refId=HxkijepwE0PVOlf9g5JdEg%3D%3D&trackingId=z12v08kpoO%2BXIdWZvjkQZw%3D%3D&position=4&pageNum=5&trk=public_jobs_jserp-result_search-card',\n",
       " 'https://de.linkedin.com/jobs/view/digital-business-analyst-at-the-adecco-group-3122503962?refId=HxkijepwE0PVOlf9g5JdEg%3D%3D&trackingId=LFBetqlCJ%2Fg0KLvCzoptKw%3D%3D&position=5&pageNum=5&trk=public_jobs_jserp-result_search-card',\n",
       " 'https://de.linkedin.com/jobs/view/business-analyst-m-f-d-at-numa-3128558786?refId=HxkijepwE0PVOlf9g5JdEg%3D%3D&trackingId=V0Kom2Q8OxayRatfG8PeMw%3D%3D&position=6&pageNum=5&trk=public_jobs_jserp-result_search-card',\n",
       " 'https://de.linkedin.com/jobs/view/business-analyst-in-sales-analytics-d-w-m-at-immoscout24-3105447990?refId=HxkijepwE0PVOlf9g5JdEg%3D%3D&trackingId=ABiSB7KqpQ0nd73Dc9fRFA%3D%3D&position=7&pageNum=5&trk=public_jobs_jserp-result_search-card',\n",
       " 'https://de.linkedin.com/jobs/view/analyst-marketing-innovation-bangkok-based-relocation-provided-at-agoda-3142658712?refId=HxkijepwE0PVOlf9g5JdEg%3D%3D&trackingId=qCeKzfv19p5xO0Q0w2%2FSCg%3D%3D&position=8&pageNum=5&trk=public_jobs_jserp-result_search-card',\n",
       " 'https://de.linkedin.com/jobs/view/business-analyst-f-m-d-at-yara-international-3115283208?refId=HxkijepwE0PVOlf9g5JdEg%3D%3D&trackingId=s81d6cx9prC0oYrnNt2tPQ%3D%3D&position=9&pageNum=5&trk=public_jobs_jserp-result_search-card',\n",
       " 'https://de.linkedin.com/jobs/view/business-analyst-f-m-x-at-auto1-group-3044653936?refId=HxkijepwE0PVOlf9g5JdEg%3D%3D&trackingId=DICFcCMx0C7MbiB937jFfA%3D%3D&position=10&pageNum=5&trk=public_jobs_jserp-result_search-card',\n",
       " 'https://de.linkedin.com/jobs/view/business-analyst-at-ring-3072512352?refId=HxkijepwE0PVOlf9g5JdEg%3D%3D&trackingId=mbQFA8HMcbyzuxQc1bMpQA%3D%3D&position=11&pageNum=5&trk=public_jobs_jserp-result_search-card',\n",
       " 'https://de.linkedin.com/jobs/view/business-analyst-f-m-d-at-kloeckner-i-gmbh-3125827792?refId=HxkijepwE0PVOlf9g5JdEg%3D%3D&trackingId=0dg24JvPQK0iqD6hLzk6vw%3D%3D&position=12&pageNum=5&trk=public_jobs_jserp-result_search-card',\n",
       " 'https://de.linkedin.com/jobs/view/business-analyst-betrugsmanagementsystem-m-w-d-at-dkb-deutsche-kreditbank-ag-3045371541?refId=HxkijepwE0PVOlf9g5JdEg%3D%3D&trackingId=qhgMMzMKJ0h0Nv26IbpMxg%3D%3D&position=13&pageNum=5&trk=public_jobs_jserp-result_search-card',\n",
       " 'https://de.linkedin.com/jobs/view/business-analyst-consultant-data-engineering-governance-m-w-d-at-deloitte-3026206386?refId=HxkijepwE0PVOlf9g5JdEg%3D%3D&trackingId=hK3ZpqZh60e6qnNflbhsag%3D%3D&position=14&pageNum=5&trk=public_jobs_jserp-result_search-card',\n",
       " 'https://de.linkedin.com/jobs/view/business-analyst-client-infra-f-m-d-at-delivery-hero-se-2806186673?refId=HxkijepwE0PVOlf9g5JdEg%3D%3D&trackingId=apF%2BC5lbblbGkrDgGPGugw%3D%3D&position=15&pageNum=5&trk=public_jobs_jserp-result_search-card',\n",
       " 'https://de.linkedin.com/jobs/view/business-analyst-product-owner-at-asos-com-3107765149?refId=HxkijepwE0PVOlf9g5JdEg%3D%3D&trackingId=3nkuHm43xpFKJBtA3kw2vQ%3D%3D&position=16&pageNum=5&trk=public_jobs_jserp-result_search-card',\n",
       " 'https://de.linkedin.com/jobs/view/business-analyst-m-w-d-at-bayer-3133983647?refId=HxkijepwE0PVOlf9g5JdEg%3D%3D&trackingId=PaizqBElsYa90fUC1uaEQA%3D%3D&position=17&pageNum=5&trk=public_jobs_jserp-result_search-card',\n",
       " 'https://de.linkedin.com/jobs/view/web-analyst-tracking-specialist-m-w-d-at-9-friendly-white-rabbits-3139345880?refId=HxkijepwE0PVOlf9g5JdEg%3D%3D&trackingId=p4c5nNm1LDuatCcvFFI3mg%3D%3D&position=18&pageNum=5&trk=public_jobs_jserp-result_search-card',\n",
       " 'https://de.linkedin.com/jobs/view/business-analyst-daten-prozessmanager-im-kredit-risikomanagement-m-w-d-at-dkb-deutsche-kreditbank-ag-3147362588?refId=HxkijepwE0PVOlf9g5JdEg%3D%3D&trackingId=8BnNbyZLqOa5MLQ38HrmSw%3D%3D&position=19&pageNum=5&trk=public_jobs_jserp-result_search-card',\n",
       " 'https://de.linkedin.com/jobs/view/commerce-business-analyst-all-genders-at-accenture-dach-3134262626?refId=HxkijepwE0PVOlf9g5JdEg%3D%3D&trackingId=tKzk7SFrnpjaEZFObqZcXA%3D%3D&position=20&pageNum=5&trk=public_jobs_jserp-result_search-card',\n",
       " 'https://de.linkedin.com/jobs/view/business-analyst-digitaler-kreditprozess-m-w-d-at-dkb-deutsche-kreditbank-ag-3090424613?refId=HxkijepwE0PVOlf9g5JdEg%3D%3D&trackingId=ttgDEUKnvQuouQGGoC7GHA%3D%3D&position=21&pageNum=5&trk=public_jobs_jserp-result_search-card',\n",
       " 'https://de.linkedin.com/jobs/view/business-analyst-m-f-d-at-tui-2945967853?refId=HxkijepwE0PVOlf9g5JdEg%3D%3D&trackingId=gLgFCbMVz5uyDpCqflBW5w%3D%3D&position=22&pageNum=5&trk=public_jobs_jserp-result_search-card',\n",
       " 'https://de.linkedin.com/jobs/view/business-analyst-insurance-f-m-x-at-ibm-3104860050?refId=HxkijepwE0PVOlf9g5JdEg%3D%3D&trackingId=ex7xpgXbrMum1Ey7%2BbFK%2Fg%3D%3D&position=23&pageNum=5&trk=public_jobs_jserp-result_search-card',\n",
       " 'https://de.linkedin.com/jobs/view/business-analyst-fachberater-mwd-at-vesterling-ag-3140216574?refId=HxkijepwE0PVOlf9g5JdEg%3D%3D&trackingId=AhUFVdtMkvAhL6KCKlHb0A%3D%3D&position=24&pageNum=5&trk=public_jobs_jserp-result_search-card',\n",
       " 'https://de.linkedin.com/jobs/view/business-analyst-digital-product-owner-d-f-m-at-henkel-3089886081?refId=HxkijepwE0PVOlf9g5JdEg%3D%3D&trackingId=t7odLZEx7HVxykakKcGA5A%3D%3D&position=25&pageNum=5&trk=public_jobs_jserp-result_search-card',\n",
       " 'https://de.linkedin.com/jobs/view/business-analyst-m-w-d-at-verivox-gmbh-3137900645?refId=yPqfmRRf%2FgDdezpwzn36mQ%3D%3D&trackingId=XTHjz8NQ0VFtrRII819LwQ%3D%3D&position=1&pageNum=6&trk=public_jobs_jserp-result_search-card',\n",
       " 'https://de.linkedin.com/jobs/view/business-analyst-f%C3%BCr-process-automation-technologies-m-w-d-at-volkswagen-group-services-gmbh-3061675182?refId=yPqfmRRf%2FgDdezpwzn36mQ%3D%3D&trackingId=nFYwMG%2FBc6rVCKUo6n1PLw%3D%3D&position=2&pageNum=6&trk=public_jobs_jserp-result_search-card',\n",
       " 'https://de.linkedin.com/jobs/view/business-analyst-procurement-d-f-m-at-ottobock-3107896101?refId=yPqfmRRf%2FgDdezpwzn36mQ%3D%3D&trackingId=cr5XemTslaxZo8mkz5LtDg%3D%3D&position=3&pageNum=6&trk=public_jobs_jserp-result_search-card',\n",
       " 'https://de.linkedin.com/jobs/view/business-analyst-at-infinite-supply-chain-talent-part-of-digital-gurus-3138075429?refId=yPqfmRRf%2FgDdezpwzn36mQ%3D%3D&trackingId=qSFzDs10YpYqGdPae0rURw%3D%3D&position=4&pageNum=6&trk=public_jobs_jserp-result_search-card',\n",
       " 'https://de.linkedin.com/jobs/view/business-tech-analyst-m-w-d-at-thalia-digital-retail-solutions-3115580969?refId=yPqfmRRf%2FgDdezpwzn36mQ%3D%3D&trackingId=%2FFlbGfQAkcXiQzF9j%2B%2BAyw%3D%3D&position=5&pageNum=6&trk=public_jobs_jserp-result_search-card',\n",
       " 'https://de.linkedin.com/jobs/view/consultant-business-analyst-softwareindustrie-w-m-d-at-capgemini-3106924990?refId=yPqfmRRf%2FgDdezpwzn36mQ%3D%3D&trackingId=QcIOFt6jSObhAWTXAt7aVw%3D%3D&position=6&pageNum=6&trk=public_jobs_jserp-result_search-card',\n",
       " 'https://de.linkedin.com/jobs/view/business-analyst-m-w-d-at-steepconsult-3141413850?refId=yPqfmRRf%2FgDdezpwzn36mQ%3D%3D&trackingId=axa%2FXwifqaDzkXw5ZQ21DA%3D%3D&position=7&pageNum=6&trk=public_jobs_jserp-result_search-card',\n",
       " 'https://de.linkedin.com/jobs/view/business-analyst-consultant-m-f-o-cloud-transformation-your-entry-in-consulting-in-berlin-at-deloitte-2900925951?refId=yPqfmRRf%2FgDdezpwzn36mQ%3D%3D&trackingId=og%2B2%2BwtE6g4Z0wixSXeScA%3D%3D&position=9&pageNum=6&trk=public_jobs_jserp-result_search-card',\n",
       " 'https://de.linkedin.com/jobs/view/business-analyst-softwaretesting-w-m-d-at-deutsche-bahn-3078793311?refId=yPqfmRRf%2FgDdezpwzn36mQ%3D%3D&trackingId=M3W%2FUwRPx%2BqiPe0P8ikJsw%3D%3D&position=10&pageNum=6&trk=public_jobs_jserp-result_search-card',\n",
       " 'https://de.linkedin.com/jobs/view/business-analyst-m-w-d-%E2%80%93-logistik-scm-at-4flow-3138416968?refId=yPqfmRRf%2FgDdezpwzn36mQ%3D%3D&trackingId=zfX4wWADZ6zhvZ452AN3xA%3D%3D&position=11&pageNum=6&trk=public_jobs_jserp-result_search-card',\n",
       " 'https://de.linkedin.com/jobs/view/db-vertrieb-linie-business-analyst-at-eteam-3118559294?refId=yPqfmRRf%2FgDdezpwzn36mQ%3D%3D&trackingId=a1Zn73ot7yNm5XSVlFEdUg%3D%3D&position=12&pageNum=6&trk=public_jobs_jserp-result_search-card',\n",
       " 'https://de.linkedin.com/jobs/view/business-analyst-softwaretesting-w-m-d-at-deutsche-bahn-international-3092884716?refId=yPqfmRRf%2FgDdezpwzn36mQ%3D%3D&trackingId=73LA19L%2BcvzflWWSLZi5Zw%3D%3D&position=13&pageNum=6&trk=public_jobs_jserp-result_search-card',\n",
       " 'https://de.linkedin.com/jobs/view/business-analyst-m-f-x-at-salesfive-gmbh-at-join-solutions-ag-3140852725?refId=yPqfmRRf%2FgDdezpwzn36mQ%3D%3D&trackingId=cbj1BSD5eFoS9wRvWGjndA%3D%3D&position=14&pageNum=6&trk=public_jobs_jserp-result_search-card',\n",
       " 'https://de.linkedin.com/jobs/view/business-analyst-m-w-d-100%25-remote-at-publicplan-gmbh-3048699043?refId=yPqfmRRf%2FgDdezpwzn36mQ%3D%3D&trackingId=hmDpi%2BXZjukxtkLIzqR4GA%3D%3D&position=15&pageNum=6&trk=public_jobs_jserp-result_search-card',\n",
       " 'https://de.linkedin.com/jobs/view/db-vertrieb-vendo-business-analyst-at-eteam-3118559288?refId=yPqfmRRf%2FgDdezpwzn36mQ%3D%3D&trackingId=sz5yJx%2B4MxUuRCSz1IXTdw%3D%3D&position=16&pageNum=6&trk=public_jobs_jserp-result_search-card',\n",
       " 'https://de.linkedin.com/jobs/view/product-business-analyst-compensation-at-omnipresent-3046261086?refId=yPqfmRRf%2FgDdezpwzn36mQ%3D%3D&trackingId=8d8UndC0gBfNkCEeG2RU0w%3D%3D&position=17&pageNum=6&trk=public_jobs_jserp-result_search-card',\n",
       " 'https://de.linkedin.com/jobs/view/business-analyst-projektportfoliomanagement-w-m-d-at-deutsche-bahn-international-3137956474?refId=yPqfmRRf%2FgDdezpwzn36mQ%3D%3D&trackingId=kwCAe68tyUvTzJ9YnkYKcA%3D%3D&position=18&pageNum=6&trk=public_jobs_jserp-result_search-card',\n",
       " 'https://de.linkedin.com/jobs/view/business-analyst-strategy-digital-transformation-energiewirtschaft-m-w-d-in-berlin-at-bearingpoint-2963471348?refId=yPqfmRRf%2FgDdezpwzn36mQ%3D%3D&trackingId=bxH7CQWKOFWBtyPE8cXTbw%3D%3D&position=19&pageNum=6&trk=public_jobs_jserp-result_search-card',\n",
       " 'https://de.linkedin.com/jobs/view/business-analyst-telecommunications-digital-strategy-m-w-d-in-berlin-at-bearingpoint-2960143720?refId=yPqfmRRf%2FgDdezpwzn36mQ%3D%3D&trackingId=jZdtCWV3G0MhJz6xBI8ndw%3D%3D&position=20&pageNum=6&trk=public_jobs_jserp-result_search-card',\n",
       " 'https://de.linkedin.com/jobs/view/business-analyst-strategy-digital-transformation-automotive-m-w-d-in-berlin-at-bearingpoint-2960144152?refId=yPqfmRRf%2FgDdezpwzn36mQ%3D%3D&trackingId=ZfSk3FKRVPTm%2Fs7VKfZa%2Fg%3D%3D&position=21&pageNum=6&trk=public_jobs_jserp-result_search-card',\n",
       " 'https://de.linkedin.com/jobs/view/business-analyst-beds-network-bangkok-based-relocation-provided-at-agoda-3142658545?refId=yPqfmRRf%2FgDdezpwzn36mQ%3D%3D&trackingId=nsEjD1%2BaAOWzHgP4i2qYgg%3D%3D&position=22&pageNum=6&trk=public_jobs_jserp-result_search-card',\n",
       " 'https://de.linkedin.com/jobs/view/business-analyst-consultant-strategieberatung-monitor-deloitte-m-w-d-at-deloitte-2839219896?refId=yPqfmRRf%2FgDdezpwzn36mQ%3D%3D&trackingId=NkoIeAB%2BL3jdNV5CYPbAQw%3D%3D&position=24&pageNum=6&trk=public_jobs_jserp-result_search-card',\n",
       " 'https://de.linkedin.com/jobs/view/business-analyst-versicherungen-w-m-d-findic-at-zeb-consulting-3063701167?refId=yPqfmRRf%2FgDdezpwzn36mQ%3D%3D&trackingId=a%2B8kzzXHzYcn7z6oArNm5g%3D%3D&position=25&pageNum=6&trk=public_jobs_jserp-result_search-card',\n",
       " 'https://de.linkedin.com/jobs/view/aem-business-analyst-w-m-x-at-ibm-ix-dach-3132952363?refId=m3mi5cx0SWpmwt4Cibb0yQ%3D%3D&trackingId=tPfJggo8jRiZmaoRRklOtg%3D%3D&position=1&pageNum=7&trk=public_jobs_jserp-result_search-card',\n",
       " 'https://de.linkedin.com/jobs/view/business-analyst-microsoft-cloud-m-w-d-at-helios-kliniken-gmbh-3110186302?refId=m3mi5cx0SWpmwt4Cibb0yQ%3D%3D&trackingId=rw%2Fw4rvNWZXAjk0pJuqWBw%3D%3D&position=2&pageNum=7&trk=public_jobs_jserp-result_search-card',\n",
       " 'https://de.linkedin.com/jobs/view/aem-business-analyst-w-m-x-at-ibm-ix-dach-3134241008?refId=m3mi5cx0SWpmwt4Cibb0yQ%3D%3D&trackingId=AwgBMQ7ZFQzDCC8VuevIpw%3D%3D&position=3&pageNum=7&trk=public_jobs_jserp-result_search-card',\n",
       " 'https://de.linkedin.com/jobs/view/business-analyst-w-m-d-at-lionstep-3056351280?refId=m3mi5cx0SWpmwt4Cibb0yQ%3D%3D&trackingId=1VDkiANRKmJeu%2ByLoWFRIA%3D%3D&position=4&pageNum=7&trk=public_jobs_jserp-result_search-card',\n",
       " 'https://de.linkedin.com/jobs/view/business-analyst-e-mobility-elektromobilit%C3%A4t-m-w-d-at-deefinity-digital-consulting-gmbh-3128998976?refId=m3mi5cx0SWpmwt4Cibb0yQ%3D%3D&trackingId=gqtgyJfzdRgHFTR3MgL34A%3D%3D&position=5&pageNum=7&trk=public_jobs_jserp-result_search-card',\n",
       " 'https://de.linkedin.com/jobs/view/business-analyst-strategy-growth-%E2%80%93-emea-dubai-cairo-barcelona-or-berlin-based-%E2%80%93-optional-at-agoda-3095542224?refId=m3mi5cx0SWpmwt4Cibb0yQ%3D%3D&trackingId=awTGYs%2F9IhXoTjfma3fjGQ%3D%3D&position=6&pageNum=7&trk=public_jobs_jserp-result_search-card',\n",
       " 'https://de.linkedin.com/jobs/view/business-analyst-banking-m-w-d-at-msg-3091934559?refId=m3mi5cx0SWpmwt4Cibb0yQ%3D%3D&trackingId=%2B9s9kOfrQpPKiAScBqqhzA%3D%3D&position=7&pageNum=7&trk=public_jobs_jserp-result_search-card',\n",
       " 'https://de.linkedin.com/jobs/view/consultant-variable-pay-structure-standard-operating-procedures-at-mobisol-group-3132894670?refId=m3mi5cx0SWpmwt4Cibb0yQ%3D%3D&trackingId=PZ287iWoKSnE9IQEAv0AKQ%3D%3D&position=8&pageNum=7&trk=public_jobs_jserp-result_search-card',\n",
       " 'https://de.linkedin.com/jobs/view/business-analyst-finance-banking-12-month-contract-up-to-1000-euros-per-day-german-speaking-at-optimus-search-3147199168?refId=m3mi5cx0SWpmwt4Cibb0yQ%3D%3D&trackingId=cKYOm%2F81d8QkWqIKzXidvw%3D%3D&position=9&pageNum=7&trk=public_jobs_jserp-result_search-card',\n",
       " 'https://de.linkedin.com/jobs/view/business-analyst-w-m-d-at-bridgingit-gmbh-3068303205?refId=m3mi5cx0SWpmwt4Cibb0yQ%3D%3D&trackingId=ET7fQtaoh39JnZ2f5BwOpA%3D%3D&position=10&pageNum=7&trk=public_jobs_jserp-result_search-card',\n",
       " 'https://de.linkedin.com/jobs/view/duales-studium-b-a-gesundheitsmanagement-in-berlin-pankow-oder-berlin-tegel-at-future-fit-at-join-solutions-ag-3139440978?refId=m3mi5cx0SWpmwt4Cibb0yQ%3D%3D&trackingId=9KqQigj8IDKK9Fq4Rflnog%3D%3D&position=11&pageNum=7&trk=public_jobs_jserp-result_search-card',\n",
       " 'https://de.linkedin.com/jobs/view/business-analyst-m-w-d-f%C3%BCr-ehealth-anwendungen-at-computer-futures-3103778011?refId=m3mi5cx0SWpmwt4Cibb0yQ%3D%3D&trackingId=fV3oBxSthMD13d9iGtRO7g%3D%3D&position=12&pageNum=7&trk=public_jobs_jserp-result_search-card',\n",
       " 'https://de.linkedin.com/jobs/view/duales-studium-b-a-fitness%C3%B6konomie-m-w-d-at-fitbox-gmbh-die-fitness-revolution-3140444218?refId=m3mi5cx0SWpmwt4Cibb0yQ%3D%3D&trackingId=OU3HNKeG70tPJszv%2F0f7%2Fg%3D%3D&position=13&pageNum=7&trk=public_jobs_jserp-result_search-card',\n",
       " 'https://de.linkedin.com/jobs/view/business-analyst-in-at-investitionsbank-des-landes-brandenburg-ilb-3121457921?refId=m3mi5cx0SWpmwt4Cibb0yQ%3D%3D&trackingId=9rajora8Rww8F%2B5PnsOipg%3D%3D&position=14&pageNum=7&trk=public_jobs_jserp-result_search-card',\n",
       " 'https://de.linkedin.com/jobs/view/business-analyst-risk-treasury-m-w-d-at-dkb-deutsche-kreditbank-ag-3135869711?refId=m3mi5cx0SWpmwt4Cibb0yQ%3D%3D&trackingId=Y9SpcvtWCvFUOcFkdOBkJw%3D%3D&position=15&pageNum=7&trk=public_jobs_jserp-result_search-card',\n",
       " 'https://de.linkedin.com/jobs/view/business-analyst-m-w-d-schwerpunkt-zuzahlungs%C2%ADbe%C2%ADfreiung-ersatz%C2%ADleis%C2%ADtungswesen-at-aok-systems-gmbh-3074043059?refId=m3mi5cx0SWpmwt4Cibb0yQ%3D%3D&trackingId=qBzzNhWMfFBhVdDq6PthEw%3D%3D&position=16&pageNum=7&trk=public_jobs_jserp-result_search-card',\n",
       " 'https://de.linkedin.com/jobs/view/business-analyst-microsoft-on-premise-m-w-d-at-helios-kliniken-gmbh-3107862860?refId=m3mi5cx0SWpmwt4Cibb0yQ%3D%3D&trackingId=8vHAJYFgGH%2BgJKE%2F3CsXCg%3D%3D&position=17&pageNum=7&trk=public_jobs_jserp-result_search-card',\n",
       " 'https://de.linkedin.com/jobs/view/business-analyst-in-m-w-d-at-thoughtworks-2919173967?refId=m3mi5cx0SWpmwt4Cibb0yQ%3D%3D&trackingId=%2FjlOe8YhRbgnPenrs1%2BJ%2BQ%3D%3D&position=18&pageNum=7&trk=public_jobs_jserp-result_search-card',\n",
       " 'https://de.linkedin.com/jobs/view/research-lead-for-enterprise-cyber-protection-at-acronis-research-center-m-w-d-at-acronis-3028485878?refId=m3mi5cx0SWpmwt4Cibb0yQ%3D%3D&trackingId=HBK7cB698NoDGwB3ajRFgA%3D%3D&position=19&pageNum=7&trk=public_jobs_jserp-result_search-card',\n",
       " 'https://de.linkedin.com/jobs/view/business-analyst-m-w-d-crm-bereich-1807-at-beuth-verlag-gmbh-3128521156?refId=m3mi5cx0SWpmwt4Cibb0yQ%3D%3D&trackingId=gX962tdOSGRD3vzxyLw%2FTg%3D%3D&position=20&pageNum=7&trk=public_jobs_jserp-result_search-card',\n",
       " 'https://de.linkedin.com/jobs/view/duales-studium-b-a-fitness%C3%B6konomie-m-w-d-at-fitbox-gmbh-die-fitness-revolution-3123675913?refId=m3mi5cx0SWpmwt4Cibb0yQ%3D%3D&trackingId=3BVnxSUuks%2FIBKc0dH4vdg%3D%3D&position=21&pageNum=7&trk=public_jobs_jserp-result_search-card',\n",
       " 'https://de.linkedin.com/jobs/view/business-analyst-consultant-m-w-d-digital-performance-management-at-deloitte-2839228324?refId=m3mi5cx0SWpmwt4Cibb0yQ%3D%3D&trackingId=636yoQVtzyO%2B1%2BlOCV1GvA%3D%3D&position=22&pageNum=7&trk=public_jobs_jserp-result_search-card',\n",
       " 'https://de.linkedin.com/jobs/view/business-analyst-m-w-d-legal-process-technology-at-kpmg-law-3097361331?refId=m3mi5cx0SWpmwt4Cibb0yQ%3D%3D&trackingId=K5wZlX0qXMrDdHwAIZIIyA%3D%3D&position=23&pageNum=7&trk=public_jobs_jserp-result_search-card',\n",
       " 'https://de.linkedin.com/jobs/view/business-analyst-m-w-d-at-init-ag-f%C3%BCr-digitale-kommunikation-3137707097?refId=m3mi5cx0SWpmwt4Cibb0yQ%3D%3D&trackingId=MsWsNdB4PtQ9TCmcL%2F9UQQ%3D%3D&position=24&pageNum=7&trk=public_jobs_jserp-result_search-card',\n",
       " 'https://de.linkedin.com/jobs/view/business-analyst-consultant-venture-architect-m-f-d-innovation-and-ventures-in-berlin-at-deloitte-3095794636?refId=h884E4fHB2ERZKv3vslN5Q%3D%3D&trackingId=9LGyNi%2FifGkEA265f57s%2BA%3D%3D&position=1&pageNum=8&trk=public_jobs_jserp-result_search-card',\n",
       " 'https://de.linkedin.com/jobs/view/business-analyst-consultant-m-w-d-application-modernization-at-deloitte-2839229239?refId=h884E4fHB2ERZKv3vslN5Q%3D%3D&trackingId=sfEF7pfsuoYVSV9whYLwZQ%3D%3D&position=2&pageNum=8&trk=public_jobs_jserp-result_search-card',\n",
       " 'https://de.linkedin.com/jobs/view/business-analyst-f%C3%BCr-die-digitalisierung-automatisierung-m-w-d-at-sks-unternehmensberatung-gmbh-co-kg-3135656318?refId=h884E4fHB2ERZKv3vslN5Q%3D%3D&trackingId=vfyZaBHQ2HRf3G5ZN1ztuQ%3D%3D&position=3&pageNum=8&trk=public_jobs_jserp-result_search-card',\n",
       " 'https://de.linkedin.com/jobs/view/duales-studium-b-a-gesundheitsmanagement-fitness%C3%B6konomie-m-w-d-at-fitbox-gmbh-die-fitness-revolution-3141844294?refId=h884E4fHB2ERZKv3vslN5Q%3D%3D&trackingId=QnoedgKSihjkT0JEAOl%2F4w%3D%3D&position=4&pageNum=8&trk=public_jobs_jserp-result_search-card',\n",
       " 'https://de.linkedin.com/jobs/view/business-analyst-consultant-m-w-d-dein-einstieg-in-workforce-transformation-at-deloitte-2839214478?refId=h884E4fHB2ERZKv3vslN5Q%3D%3D&trackingId=ruQ6aKyNt3dELeL8v3y6OQ%3D%3D&position=5&pageNum=8&trk=public_jobs_jserp-result_search-card',\n",
       " 'https://de.linkedin.com/jobs/view/business-analyst-consultant-m-w-d-digital-transformation-servicenow-at-deloitte-3073143523?refId=h884E4fHB2ERZKv3vslN5Q%3D%3D&trackingId=RCWmVh8x1HXptzAx5%2FzgjA%3D%3D&position=6&pageNum=8&trk=public_jobs_jserp-result_search-card',\n",
       " 'https://de.linkedin.com/jobs/view/business-analyst-consultant-m-w-d-enterprise-resource-planning-erp-in-berlin-at-deloitte-2838815094?refId=h884E4fHB2ERZKv3vslN5Q%3D%3D&trackingId=p8y3TRs5bTOFTlUzAJ%2Flnw%3D%3D&position=7&pageNum=8&trk=public_jobs_jserp-result_search-card',\n",
       " 'https://de.linkedin.com/jobs/view/business-analyst-banking-next-generation-expert-m-w-d-in-berlin-at-deloitte-3004876631?refId=h884E4fHB2ERZKv3vslN5Q%3D%3D&trackingId=YWLRVbAZ4PtzmdL%2FyiQh0g%3D%3D&position=8&pageNum=8&trk=public_jobs_jserp-result_search-card',\n",
       " 'https://de.linkedin.com/jobs/view/agile-business-analyst-m-w-d-at-init-ag-f%C3%BCr-digitale-kommunikation-3117775982?refId=h884E4fHB2ERZKv3vslN5Q%3D%3D&trackingId=i%2F%2FXjzSMHtEaExYeuzM23w%3D%3D&position=9&pageNum=8&trk=public_jobs_jserp-result_search-card',\n",
       " 'https://de.linkedin.com/jobs/view/product-manager-acronis-cyber-platform-w-m-d-at-acronis-3094618003?refId=h884E4fHB2ERZKv3vslN5Q%3D%3D&trackingId=OhAXspnTIFGFm4iVq3b4gQ%3D%3D&position=10&pageNum=8&trk=public_jobs_jserp-result_search-card',\n",
       " 'https://de.linkedin.com/jobs/view/backend-engineer-growth-marketing-at-wolt-3111291187?refId=h884E4fHB2ERZKv3vslN5Q%3D%3D&trackingId=ePGBk79eryEfpgnX83yRAw%3D%3D&position=11&pageNum=8&trk=public_jobs_jserp-result_search-card',\n",
       " 'https://de.linkedin.com/jobs/view/business-analyst-consultant-m-w-d-human-capital-organization-transformation-at-deloitte-2838824716?refId=h884E4fHB2ERZKv3vslN5Q%3D%3D&trackingId=wUF%2FGESfk1r59XE%2BjQMs1A%3D%3D&position=12&pageNum=8&trk=public_jobs_jserp-result_search-card',\n",
       " 'https://de.linkedin.com/jobs/view/requirements-engineer-business-analyst-all-genders-at-diconium-3114112200?refId=h884E4fHB2ERZKv3vslN5Q%3D%3D&trackingId=6vPEesV%2FE7hcNrmzzgt7Nw%3D%3D&position=13&pageNum=8&trk=public_jobs_jserp-result_search-card',\n",
       " 'https://de.linkedin.com/jobs/view/business-analyst-m-w-d-operations-controlling-logistik-standort-gro%C3%9Fbeeren-at-ceva-logistics-at-join-solutions-ag-3141329055?refId=h884E4fHB2ERZKv3vslN5Q%3D%3D&trackingId=DH8Up8id7YJkIXageGKuOg%3D%3D&position=14&pageNum=8&trk=public_jobs_jserp-result_search-card',\n",
       " 'https://de.linkedin.com/jobs/view/business-analyst-product-strategy-lifecycle-management-plm-m-w-d-in-berlin-at-deloitte-3140363030?refId=h884E4fHB2ERZKv3vslN5Q%3D%3D&trackingId=k0uQJTqyXf6rXDy6ECcoRQ%3D%3D&position=15&pageNum=8&trk=public_jobs_jserp-result_search-card',\n",
       " 'https://de.linkedin.com/jobs/view/volunteer-business-analyst-in-cambodia-at-global-nomadic-2227913024?refId=h884E4fHB2ERZKv3vslN5Q%3D%3D&trackingId=Am9h0atRjed16HF8g4xuKQ%3D%3D&position=16&pageNum=8&trk=public_jobs_jserp-result_search-card',\n",
       " 'https://de.linkedin.com/jobs/view/business-analyst-sap-integration-m-f-d-at-tui-2945967885?refId=h884E4fHB2ERZKv3vslN5Q%3D%3D&trackingId=lhXAh2hZbZQuoaUxjFHhEA%3D%3D&position=17&pageNum=8&trk=public_jobs_jserp-result_search-card',\n",
       " 'https://de.linkedin.com/jobs/view/business-analyst-m-w-d-human-capital-organization-transformation-change-fokus-training-at-deloitte-2874045943?refId=h884E4fHB2ERZKv3vslN5Q%3D%3D&trackingId=mPZ9ZG429rErByjEmMqeUg%3D%3D&position=18&pageNum=8&trk=public_jobs_jserp-result_search-card',\n",
       " 'https://de.linkedin.com/jobs/view/business-analyst-requirements-engineer-w-m-d-business-analysis-it-at-brockhaus-ag-2905129743?refId=h884E4fHB2ERZKv3vslN5Q%3D%3D&trackingId=w7ekrk3lozXueE2swU9iHQ%3D%3D&position=19&pageNum=8&trk=public_jobs_jserp-result_search-card',\n",
       " 'https://de.linkedin.com/jobs/view/business-analyst-sap-ariba-in-berlin-w-m-at-klanik-3070064811?refId=h884E4fHB2ERZKv3vslN5Q%3D%3D&trackingId=KOpaKI2rBf15nXD%2BRJOF%2FQ%3D%3D&position=20&pageNum=8&trk=public_jobs_jserp-result_search-card',\n",
       " 'https://de.linkedin.com/jobs/view/business-analyst-consultant-m-w-d-f%C3%BCr-moderne-cloud-l%C3%B6sungen-in-der-finanzfunktion-at-deloitte-2839210710?refId=h884E4fHB2ERZKv3vslN5Q%3D%3D&trackingId=BoXWgaJvsCcugYeXwNx0WA%3D%3D&position=21&pageNum=8&trk=public_jobs_jserp-result_search-card',\n",
       " 'https://de.linkedin.com/jobs/view/business-analyst-sap-integration-m-w-d-at-tui-2945967864?refId=h884E4fHB2ERZKv3vslN5Q%3D%3D&trackingId=2%2BN9WqNKv%2BrQwkgah80z0Q%3D%3D&position=22&pageNum=8&trk=public_jobs_jserp-result_search-card',\n",
       " 'https://de.linkedin.com/jobs/view/business-analyst-unternehmensberater-it-m-w-d-at-materna-information-communications-se-3036501197?refId=h884E4fHB2ERZKv3vslN5Q%3D%3D&trackingId=ruuMPGziq8%2BZ8mxsk53uNw%3D%3D&position=23&pageNum=8&trk=public_jobs_jserp-result_search-card',\n",
       " 'https://de.linkedin.com/jobs/view/business-analyst-software-development-insurtech-w-m-d-at-hypoport-se-3128518321?refId=h884E4fHB2ERZKv3vslN5Q%3D%3D&trackingId=Pk9Ni2frR8Nm6kMs8NLTqw%3D%3D&position=24&pageNum=8&trk=public_jobs_jserp-result_search-card',\n",
       " 'https://de.linkedin.com/jobs/view/business-analyst-all-genders-datenmigration-versicherung-f%C3%BCr-die-adesso-insurance-solutions-gmbh-at-adesso-insurance-solutions-gmbh-2935516892?refId=h884E4fHB2ERZKv3vslN5Q%3D%3D&trackingId=uWl5AGfbsqlNKkYNmyp9Kg%3D%3D&position=25&pageNum=8&trk=public_jobs_jserp-result_search-card',\n",
       " 'https://de.linkedin.com/jobs/view/senior-software-engineer-m-f-x-customer-account-iam-at-idealo-internet-gmbh-3134238072?refId=MqD9nrxKJiPxFF0huMsR3A%3D%3D&trackingId=DrNukpWD7rU2DbMe7m2dSg%3D%3D&position=1&pageNum=9&trk=public_jobs_jserp-result_search-card',\n",
       " 'https://de.linkedin.com/jobs/view/praktikant-oder-werkstudent-m-w-d-im-bereich-sales-analysis-business-intelligence-at-bausch-%2B-lomb-3128345413?refId=MqD9nrxKJiPxFF0huMsR3A%3D%3D&trackingId=2tmemH4A9DnRlQT08TW3Ew%3D%3D&position=2&pageNum=9&trk=public_jobs_jserp-result_search-card',\n",
       " 'https://de.linkedin.com/jobs/view/working-student-intern-eu-major-promotions-at-wayfair-3135493973?refId=MqD9nrxKJiPxFF0huMsR3A%3D%3D&trackingId=VVdpkXoeDUeSJAaD34aS9A%3D%3D&position=3&pageNum=9&trk=public_jobs_jserp-result_search-card']"
      ]
     },
     "execution_count": 21,
     "metadata": {},
     "output_type": "execute_result"
    }
   ],
   "source": [
    "hrefList"
   ]
  },
  {
   "cell_type": "code",
   "execution_count": 22,
   "metadata": {},
   "outputs": [],
   "source": [
    "linklist=pd.DataFrame(hrefList,columns=[\"joblinks\"])\n"
   ]
  },
  {
   "cell_type": "code",
   "execution_count": 23,
   "metadata": {},
   "outputs": [],
   "source": [
    "linklist.to_csv('linkedinlinks.csv')"
   ]
  },
  {
   "cell_type": "code",
   "execution_count": 24,
   "metadata": {},
   "outputs": [],
   "source": [
    "#Close the driver\n",
    "\n",
    "driver.close()"
   ]
  },
  {
   "cell_type": "code",
   "execution_count": 25,
   "metadata": {},
   "outputs": [],
   "source": []
  },
  {
   "cell_type": "code",
   "execution_count": 26,
   "metadata": {},
   "outputs": [],
   "source": []
  }
 ],
 "metadata": {
  "kernelspec": {
   "display_name": "Python 3",
   "language": "python",
   "name": "python3"
  },
  "language_info": {
   "codemirror_mode": {
    "name": "ipython",
    "version": 3
   },
   "file_extension": ".py",
   "mimetype": "text/x-python",
   "name": "python",
   "nbconvert_exporter": "python",
   "pygments_lexer": "ipython3",
   "version": "3.8.5"
  }
 },
 "nbformat": 4,
 "nbformat_minor": 4
}
